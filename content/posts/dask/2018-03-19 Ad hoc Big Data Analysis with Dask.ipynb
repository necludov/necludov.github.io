{
 "cells": [
  {
   "cell_type": "markdown",
   "metadata": {},
   "source": [
    "Creating custom reports and machine learning models with pandas can be cumbersome with limited hardware resources (memory and CPU). Financial constraints can make spawning cloud instances to side-step this issue a problem, while adding the complexity of libraries such as Apache Spark isn't worth the trouble and staggers data exploration. **How can we keep the simplicity and power of pandas, while extending it to be out-of-core and parallel?**\n",
    "\n",
    "Enter [Dask](https://dask.pydata.org/en/latest/): a flexible parallel computing library for analytic computing. With it we will create a linear regression model to predict [read time in Medium posts](https://help.medium.com/hc/en-us/articles/214991667-Read-time) using a Kaggle dataset, while comparing the equivalent implementation with pandas."
   ]
  },
  {
   "cell_type": "markdown",
   "metadata": {},
   "source": [
    "### 1. Kaggle data\n",
    "\n",
    "We will be using the official kaggle api to automate our data fetching process.\n",
    "\n",
    "1. Log on to kaggle and enter the [How good is your Medium article?](https://www.kaggle.com/c/how-good-is-your-medium-article) competition.\n",
    "2. Configure the official kaggle api [following these steps](https://github.com/Kaggle/kaggle-api)."
   ]
  },
  {
   "cell_type": "markdown",
   "metadata": {},
   "source": [
    "For this tutorial we will need only 1 file.\n",
    "```bash\n",
    "kaggle competitions download -c how-good-is-your-medium-article -f train.json.gz\n",
    "\n",
    "```\n",
    "\n",
    "The reason for decompressing will become clear later.\n",
    "\n",
    "```bash\n",
    "gunzip -k ~/.kaggle/competitions/how-good-is-your-medium-article/train.json.gz\n",
    "```\n",
    "\n",
    "This sample file will help us speed up the analysis.\n",
    "\n",
    "```bash\n",
    "head -n5 ~/.kaggle/competitions/how-good-is-your-medium-article/train.json > \\\n",
    "         ~/.kaggle/competitions/how-good-is-your-medium-article/train-sample.json\n",
    "```"
   ]
  },
  {
   "cell_type": "markdown",
   "metadata": {},
   "source": [
    "### 2. Exploration."
   ]
  },
  {
   "cell_type": "markdown",
   "metadata": {},
   "source": [
    "Despite the extension being json our data is stored as [jsonl](http://jsonlines.org/). This means that each line of `train.json` is a valid json file."
   ]
  },
  {
   "cell_type": "markdown",
   "metadata": {},
   "source": [
    "```bash\n",
    "head -n1 ~/.kaggle/competitions/how-good-is-your-medium-article/train.json | jq 'del(.content)'\n",
    "```\n",
    "```json\n",
    "{\n",
    "  \"_id\": \"https://medium.com/policy/medium-terms-of-service-9db0094a1e0f\",\n",
    "  \"_timestamp\": 1520035195.282891,\n",
    "  \"_spider\": \"medium\",\n",
    "  \"url\": \"https://medium.com/policy/medium-terms-of-service-9db0094a1e0f\",\n",
    "  \"domain\": \"medium.com\",\n",
    "  \"published\": {\n",
    "    \"$date\": \"2012-08-13T22:54:53.510Z\"\n",
    "  },\n",
    "  \"title\": \"Medium Terms of Service – Medium Policy – Medium\",\n",
    "  \"author\": {\n",
    "    \"name\": null,\n",
    "    \"url\": \"https://medium.com/@Medium\",\n",
    "    \"twitter\": \"@Medium\"\n",
    "  },\n",
    "  \"image_url\": null,\n",
    "  \"tags\": [],\n",
    "  \"link_tags\": {\n",
    "    \"canonical\": \"https://medium.com/policy/medium-terms-of-service-9db0094a1e0f\",\n",
    "    \"publisher\": \"https://plus.google.com/103654360130207659246\",\n",
    "    \"author\": \"https://medium.com/@Medium\",\n",
    "    \"search\": \"/osd.xml\",\n",
    "    \"alternate\": \"android-app://com.medium.reader/https/medium.com/p/9db0094a1e0f\",\n",
    "    \"stylesheet\": \"https://cdn-static-1.medium.com/_/fp/css/main-branding-base.Ch8g7KPCoGXbtKfJaVXo_w.css\",\n",
    "    \"icon\": \"https://cdn-static-1.medium.com/_/fp/icons/favicon-rebrand-medium.3Y6xpZ-0FSdWDnPM3hSBIA.ico\",\n",
    "    \"apple-touch-icon\": \"https://cdn-images-1.medium.com/fit/c/120/120/1*6_fgYnisCa9V21mymySIvA.png\",\n",
    "    \"mask-icon\": \"https://cdn-static-1.medium.com/_/fp/icons/monogram-mask.KPLCSFEZviQN0jQ7veN2RQ.svg\"\n",
    "  },\n",
    "  \"meta_tags\": {\n",
    "    \"viewport\": \"width=device-width, initial-scale=1\",\n",
    "    \"title\": \"Medium Terms of Service – Medium Policy – Medium\",\n",
    "    \"referrer\": \"unsafe-url\",\n",
    "    \"description\": \"These Terms of Service (“Terms”) are a contract between you and A Medium Corporation. They govern your use of Medium’s sites, services, mobile apps, products, and content (“Services”). By using…\",\n",
    "    \"theme-color\": \"#000000\",\n",
    "    \"og:title\": \"Medium Terms of Service – Medium Policy – Medium\",\n",
    "    \"og:url\": \"https://medium.com/policy/medium-terms-of-service-9db0094a1e0f\",\n",
    "    \"fb:app_id\": \"542599432471018\",\n",
    "    \"og:description\": \"These Terms of Service (“Terms”) are a contract between you and A Medium Corporation. They govern your use of Medium’s sites, services, mobile apps, products, and content (“Services”). By using…\",\n",
    "    \"twitter:description\": \"These Terms of Service (“Terms”) are a contract between you and A Medium Corporation. They govern your use of Medium’s sites, services, mobile apps, products, and content (“Services”). By using…\",\n",
    "    \"author\": \"Medium\",\n",
    "    \"og:type\": \"article\",\n",
    "    \"twitter:card\": \"summary\",\n",
    "    \"article:publisher\": \"https://www.facebook.com/medium\",\n",
    "    \"article:author\": \"https://medium.com/@Medium\",\n",
    "    \"robots\": \"index, follow\",\n",
    "    \"article:published_time\": \"2012-08-13T22:54:53.510Z\",\n",
    "    \"twitter:creator\": \"@Medium\",\n",
    "    \"twitter:site\": \"@Medium\",\n",
    "    \"og:site_name\": \"Medium\",\n",
    "    \"twitter:label1\": \"Reading time\",\n",
    "    \"twitter:data1\": \"5 min read\",\n",
    "    \"twitter:app:name:iphone\": \"Medium\",\n",
    "    \"twitter:app:id:iphone\": \"828256236\",\n",
    "    \"twitter:app:url:iphone\": \"medium://p/9db0094a1e0f\",\n",
    "    \"al:ios:app_name\": \"Medium\",\n",
    "    \"al:ios:app_store_id\": \"828256236\",\n",
    "    \"al:android:package\": \"com.medium.reader\",\n",
    "    \"al:android:app_name\": \"Medium\",\n",
    "    \"al:ios:url\": \"medium://p/9db0094a1e0f\",\n",
    "    \"al:android:url\": \"medium://p/9db0094a1e0f\",\n",
    "    \"al:web:url\": \"https://medium.com/policy/medium-terms-of-service-9db0094a1e0f\"\n",
    "  }\n",
    "}\n",
    "```"
   ]
  },
  {
   "cell_type": "markdown",
   "metadata": {},
   "source": [
    "I've ommited the `content` field due to it's huge verbosity. Our problem requires that we use the fields `published.$date` and `meta_tags.twitter:data`."
   ]
  },
  {
   "cell_type": "markdown",
   "metadata": {},
   "source": [
    "```bash\n",
    "head -n10 train.json | jq '[.published[\"$date\"], .meta_tags[\"twitter:data1\"]] | @csv' -r\n",
    "```\n",
    "```\n",
    "\"2012-08-13T22:54:53.510Z\",\"5 min read\"\n",
    "\"2015-08-03T07:44:50.331Z\",\"7 min read\"\n",
    "\"2017-02-05T13:08:17.410Z\",\"2 min read\"\n",
    "\"2017-05-06T08:16:30.776Z\",\"3 min read\"\n",
    "\"2017-06-04T14:46:25.772Z\",\"4 min read\"\n",
    "\"2017-04-02T16:21:15.171Z\",\"7 min read\"\n",
    "\"2016-08-15T04:16:02.103Z\",\"12 min read\"\n",
    "\"2015-01-14T21:31:07.568Z\",\"5 min read\"\n",
    "\"2014-02-11T04:11:54.771Z\",\"4 min read\"\n",
    "\"2015-10-25T02:58:05.551Z\",\"8 min read\"\n",
    "```"
   ]
  },
  {
   "cell_type": "markdown",
   "metadata": {},
   "source": [
    "### 3. Building the time-series: The good, the bad and the ugly."
   ]
  },
  {
   "cell_type": "code",
   "execution_count": 1,
   "metadata": {},
   "outputs": [],
   "source": [
    "%matplotlib inline"
   ]
  },
  {
   "cell_type": "code",
   "execution_count": 2,
   "metadata": {},
   "outputs": [],
   "source": [
    "import json\n",
    "import pandas as pd\n",
    "import numpy as np\n",
    "import os\n",
    "import dask.bag as db\n",
    "\n",
    "from toolz.curried import get\n",
    "from typing import Dict\n",
    "\n",
    "HOME = os.environ['HOME']\n",
    "KAGGLE_DATASET_HOME = '.kaggle/competitions/how-good-is-your-medium-article/'\n",
    "train_file = f'{HOME}/{KAGGLE_DATASET_HOME}/train.json'\n",
    "train_sample_file = f'{HOME}/{KAGGLE_DATASET_HOME}/train-sample.json'\n",
    "MEGABYTES = 1024**2"
   ]
  },
  {
   "cell_type": "markdown",
   "metadata": {},
   "source": [
    "#### The Ugly"
   ]
  },
  {
   "cell_type": "markdown",
   "metadata": {},
   "source": [
    "`read_json` loads each json as a record, parsing each object beforehand."
   ]
  },
  {
   "cell_type": "code",
   "execution_count": 3,
   "metadata": {},
   "outputs": [
    {
     "data": {
      "text/html": [
       "<div>\n",
       "<style scoped>\n",
       "    .dataframe tbody tr th:only-of-type {\n",
       "        vertical-align: middle;\n",
       "    }\n",
       "\n",
       "    .dataframe tbody tr th {\n",
       "        vertical-align: top;\n",
       "    }\n",
       "\n",
       "    .dataframe thead th {\n",
       "        text-align: right;\n",
       "    }\n",
       "</style>\n",
       "<table border=\"1\" class=\"dataframe\">\n",
       "  <thead>\n",
       "    <tr style=\"text-align: right;\">\n",
       "      <th></th>\n",
       "      <th>published</th>\n",
       "      <th>meta_tags</th>\n",
       "    </tr>\n",
       "  </thead>\n",
       "  <tbody>\n",
       "    <tr>\n",
       "      <th>0</th>\n",
       "      <td>{'$date': '2012-08-13T22:54:53.510Z'}</td>\n",
       "      <td>{'viewport': 'width=device-width, initial-scal...</td>\n",
       "    </tr>\n",
       "    <tr>\n",
       "      <th>1</th>\n",
       "      <td>{'$date': '2015-08-03T07:44:50.331Z'}</td>\n",
       "      <td>{'viewport': 'width=device-width, initial-scal...</td>\n",
       "    </tr>\n",
       "    <tr>\n",
       "      <th>2</th>\n",
       "      <td>{'$date': '2017-02-05T13:08:17.410Z'}</td>\n",
       "      <td>{'viewport': 'width=device-width, initial-scal...</td>\n",
       "    </tr>\n",
       "    <tr>\n",
       "      <th>3</th>\n",
       "      <td>{'$date': '2017-05-06T08:16:30.776Z'}</td>\n",
       "      <td>{'viewport': 'width=device-width, initial-scal...</td>\n",
       "    </tr>\n",
       "    <tr>\n",
       "      <th>4</th>\n",
       "      <td>{'$date': '2017-06-04T14:46:25.772Z'}</td>\n",
       "      <td>{'viewport': 'width=device-width, initial-scal...</td>\n",
       "    </tr>\n",
       "  </tbody>\n",
       "</table>\n",
       "</div>"
      ],
      "text/plain": [
       "                               published  \\\n",
       "0  {'$date': '2012-08-13T22:54:53.510Z'}   \n",
       "1  {'$date': '2015-08-03T07:44:50.331Z'}   \n",
       "2  {'$date': '2017-02-05T13:08:17.410Z'}   \n",
       "3  {'$date': '2017-05-06T08:16:30.776Z'}   \n",
       "4  {'$date': '2017-06-04T14:46:25.772Z'}   \n",
       "\n",
       "                                           meta_tags  \n",
       "0  {'viewport': 'width=device-width, initial-scal...  \n",
       "1  {'viewport': 'width=device-width, initial-scal...  \n",
       "2  {'viewport': 'width=device-width, initial-scal...  \n",
       "3  {'viewport': 'width=device-width, initial-scal...  \n",
       "4  {'viewport': 'width=device-width, initial-scal...  "
      ]
     },
     "execution_count": 3,
     "metadata": {},
     "output_type": "execute_result"
    }
   ],
   "source": [
    "(\n",
    "    pd\n",
    "    .read_json(train_sample_file, lines=True)\n",
    "    [['published', 'meta_tags']]\n",
    ")"
   ]
  },
  {
   "cell_type": "markdown",
   "metadata": {},
   "source": [
    "Both columns have object values. Our fields of interest can be extracted and assigned to a new column using the `assign` function."
   ]
  },
  {
   "cell_type": "code",
   "execution_count": 4,
   "metadata": {},
   "outputs": [
    {
     "data": {
      "text/html": [
       "<div>\n",
       "<style scoped>\n",
       "    .dataframe tbody tr th:only-of-type {\n",
       "        vertical-align: middle;\n",
       "    }\n",
       "\n",
       "    .dataframe tbody tr th {\n",
       "        vertical-align: top;\n",
       "    }\n",
       "\n",
       "    .dataframe thead th {\n",
       "        text-align: right;\n",
       "    }\n",
       "</style>\n",
       "<table border=\"1\" class=\"dataframe\">\n",
       "  <thead>\n",
       "    <tr style=\"text-align: right;\">\n",
       "      <th></th>\n",
       "      <th>published</th>\n",
       "      <th>meta_tags</th>\n",
       "      <th>published_timestamp</th>\n",
       "      <th>read_time</th>\n",
       "    </tr>\n",
       "  </thead>\n",
       "  <tbody>\n",
       "    <tr>\n",
       "      <th>0</th>\n",
       "      <td>{'$date': '2012-08-13T22:54:53.510Z'}</td>\n",
       "      <td>{'viewport': 'width=device-width, initial-scal...</td>\n",
       "      <td>2012-08-13T22:54:53.510Z</td>\n",
       "      <td>5 min read</td>\n",
       "    </tr>\n",
       "    <tr>\n",
       "      <th>1</th>\n",
       "      <td>{'$date': '2015-08-03T07:44:50.331Z'}</td>\n",
       "      <td>{'viewport': 'width=device-width, initial-scal...</td>\n",
       "      <td>2015-08-03T07:44:50.331Z</td>\n",
       "      <td>7 min read</td>\n",
       "    </tr>\n",
       "    <tr>\n",
       "      <th>2</th>\n",
       "      <td>{'$date': '2017-02-05T13:08:17.410Z'}</td>\n",
       "      <td>{'viewport': 'width=device-width, initial-scal...</td>\n",
       "      <td>2017-02-05T13:08:17.410Z</td>\n",
       "      <td>2 min read</td>\n",
       "    </tr>\n",
       "    <tr>\n",
       "      <th>3</th>\n",
       "      <td>{'$date': '2017-05-06T08:16:30.776Z'}</td>\n",
       "      <td>{'viewport': 'width=device-width, initial-scal...</td>\n",
       "      <td>2017-05-06T08:16:30.776Z</td>\n",
       "      <td>3 min read</td>\n",
       "    </tr>\n",
       "    <tr>\n",
       "      <th>4</th>\n",
       "      <td>{'$date': '2017-06-04T14:46:25.772Z'}</td>\n",
       "      <td>{'viewport': 'width=device-width, initial-scal...</td>\n",
       "      <td>2017-06-04T14:46:25.772Z</td>\n",
       "      <td>4 min read</td>\n",
       "    </tr>\n",
       "  </tbody>\n",
       "</table>\n",
       "</div>"
      ],
      "text/plain": [
       "                               published  \\\n",
       "0  {'$date': '2012-08-13T22:54:53.510Z'}   \n",
       "1  {'$date': '2015-08-03T07:44:50.331Z'}   \n",
       "2  {'$date': '2017-02-05T13:08:17.410Z'}   \n",
       "3  {'$date': '2017-05-06T08:16:30.776Z'}   \n",
       "4  {'$date': '2017-06-04T14:46:25.772Z'}   \n",
       "\n",
       "                                           meta_tags  \\\n",
       "0  {'viewport': 'width=device-width, initial-scal...   \n",
       "1  {'viewport': 'width=device-width, initial-scal...   \n",
       "2  {'viewport': 'width=device-width, initial-scal...   \n",
       "3  {'viewport': 'width=device-width, initial-scal...   \n",
       "4  {'viewport': 'width=device-width, initial-scal...   \n",
       "\n",
       "        published_timestamp   read_time  \n",
       "0  2012-08-13T22:54:53.510Z  5 min read  \n",
       "1  2015-08-03T07:44:50.331Z  7 min read  \n",
       "2  2017-02-05T13:08:17.410Z  2 min read  \n",
       "3  2017-05-06T08:16:30.776Z  3 min read  \n",
       "4  2017-06-04T14:46:25.772Z  4 min read  "
      ]
     },
     "execution_count": 4,
     "metadata": {},
     "output_type": "execute_result"
    }
   ],
   "source": [
    "(\n",
    "    _\n",
    "    .assign(\n",
    "        published_timestamp = lambda df: df['published'].apply(dict.get, args=('$date',)),\n",
    "        read_time = lambda df: df['meta_tags'].apply(dict.get, args=('twitter:data1',)),\n",
    "    )\n",
    ")"
   ]
  },
  {
   "cell_type": "markdown",
   "metadata": {},
   "source": [
    "Extracting the time value in `read_time` can be done with `pd.Series.str` processing methods. When called, the equivalent function is applied to each value, hence `.str.split(' ').str[0]` is equivalent to `'5 min read'.split(' ')[0]`.\n",
    "\n",
    "`astype` casts our columns to the necessary dtypes."
   ]
  },
  {
   "cell_type": "code",
   "execution_count": 5,
   "metadata": {},
   "outputs": [
    {
     "data": {
      "text/html": [
       "<div>\n",
       "<style scoped>\n",
       "    .dataframe tbody tr th:only-of-type {\n",
       "        vertical-align: middle;\n",
       "    }\n",
       "\n",
       "    .dataframe tbody tr th {\n",
       "        vertical-align: top;\n",
       "    }\n",
       "\n",
       "    .dataframe thead th {\n",
       "        text-align: right;\n",
       "    }\n",
       "</style>\n",
       "<table border=\"1\" class=\"dataframe\">\n",
       "  <thead>\n",
       "    <tr style=\"text-align: right;\">\n",
       "      <th></th>\n",
       "      <th>read_time</th>\n",
       "    </tr>\n",
       "    <tr>\n",
       "      <th>published_timestamp</th>\n",
       "      <th></th>\n",
       "    </tr>\n",
       "  </thead>\n",
       "  <tbody>\n",
       "    <tr>\n",
       "      <th>2012-08-13 22:54:53.510</th>\n",
       "      <td>5</td>\n",
       "    </tr>\n",
       "    <tr>\n",
       "      <th>2015-08-03 07:44:50.331</th>\n",
       "      <td>7</td>\n",
       "    </tr>\n",
       "    <tr>\n",
       "      <th>2017-02-05 13:08:17.410</th>\n",
       "      <td>2</td>\n",
       "    </tr>\n",
       "    <tr>\n",
       "      <th>2017-05-06 08:16:30.776</th>\n",
       "      <td>3</td>\n",
       "    </tr>\n",
       "    <tr>\n",
       "      <th>2017-06-04 14:46:25.772</th>\n",
       "      <td>4</td>\n",
       "    </tr>\n",
       "  </tbody>\n",
       "</table>\n",
       "</div>"
      ],
      "text/plain": [
       "                         read_time\n",
       "published_timestamp               \n",
       "2012-08-13 22:54:53.510          5\n",
       "2015-08-03 07:44:50.331          7\n",
       "2017-02-05 13:08:17.410          2\n",
       "2017-05-06 08:16:30.776          3\n",
       "2017-06-04 14:46:25.772          4"
      ]
     },
     "execution_count": 5,
     "metadata": {},
     "output_type": "execute_result"
    }
   ],
   "source": [
    "(\n",
    "    _\n",
    "    .assign(read_time = lambda df: df['read_time'].str.split(' ').str[0])\n",
    "    .astype({\n",
    "        'read_time': int,\n",
    "        'published_timestamp': 'datetime64[ns]'\n",
    "    })\n",
    "    .set_index('published_timestamp')\n",
    "    ['read_time']\n",
    "    .to_frame()\n",
    ")"
   ]
  },
  {
   "cell_type": "markdown",
   "metadata": {},
   "source": [
    "#### The Bad"
   ]
  },
  {
   "cell_type": "markdown",
   "metadata": {},
   "source": [
    "The issue with The Ugly solution is that `read_json` loads the entire dataset into memory before slicing the necessary columns (`published` and `meta_tags`). Pre-processing our data with pure python consumes less RAM."
   ]
  },
  {
   "cell_type": "code",
   "execution_count": 6,
   "metadata": {},
   "outputs": [],
   "source": [
    "def make_datum(x):\n",
    "    return {\n",
    "        'published_timestamp': x['published']['$date'],\n",
    "        'read_time': x['meta_tags']['twitter:data1']\n",
    "    }\n",
    "\n",
    "with open(train_sample_file, 'r') as f:    \n",
    "    bad_df = pd.DataFrame([make_datum(json.loads(x)) for x in f])"
   ]
  },
  {
   "cell_type": "code",
   "execution_count": 7,
   "metadata": {},
   "outputs": [
    {
     "data": {
      "text/html": [
       "<div>\n",
       "<style scoped>\n",
       "    .dataframe tbody tr th:only-of-type {\n",
       "        vertical-align: middle;\n",
       "    }\n",
       "\n",
       "    .dataframe tbody tr th {\n",
       "        vertical-align: top;\n",
       "    }\n",
       "\n",
       "    .dataframe thead th {\n",
       "        text-align: right;\n",
       "    }\n",
       "</style>\n",
       "<table border=\"1\" class=\"dataframe\">\n",
       "  <thead>\n",
       "    <tr style=\"text-align: right;\">\n",
       "      <th></th>\n",
       "      <th>published_timestamp</th>\n",
       "      <th>read_time</th>\n",
       "    </tr>\n",
       "  </thead>\n",
       "  <tbody>\n",
       "    <tr>\n",
       "      <th>0</th>\n",
       "      <td>2012-08-13T22:54:53.510Z</td>\n",
       "      <td>5 min read</td>\n",
       "    </tr>\n",
       "    <tr>\n",
       "      <th>1</th>\n",
       "      <td>2015-08-03T07:44:50.331Z</td>\n",
       "      <td>7 min read</td>\n",
       "    </tr>\n",
       "    <tr>\n",
       "      <th>2</th>\n",
       "      <td>2017-02-05T13:08:17.410Z</td>\n",
       "      <td>2 min read</td>\n",
       "    </tr>\n",
       "    <tr>\n",
       "      <th>3</th>\n",
       "      <td>2017-05-06T08:16:30.776Z</td>\n",
       "      <td>3 min read</td>\n",
       "    </tr>\n",
       "    <tr>\n",
       "      <th>4</th>\n",
       "      <td>2017-06-04T14:46:25.772Z</td>\n",
       "      <td>4 min read</td>\n",
       "    </tr>\n",
       "  </tbody>\n",
       "</table>\n",
       "</div>"
      ],
      "text/plain": [
       "        published_timestamp   read_time\n",
       "0  2012-08-13T22:54:53.510Z  5 min read\n",
       "1  2015-08-03T07:44:50.331Z  7 min read\n",
       "2  2017-02-05T13:08:17.410Z  2 min read\n",
       "3  2017-05-06T08:16:30.776Z  3 min read\n",
       "4  2017-06-04T14:46:25.772Z  4 min read"
      ]
     },
     "execution_count": 7,
     "metadata": {},
     "output_type": "execute_result"
    }
   ],
   "source": [
    "bad_df"
   ]
  },
  {
   "cell_type": "code",
   "execution_count": 8,
   "metadata": {},
   "outputs": [
    {
     "data": {
      "text/html": [
       "<div>\n",
       "<style scoped>\n",
       "    .dataframe tbody tr th:only-of-type {\n",
       "        vertical-align: middle;\n",
       "    }\n",
       "\n",
       "    .dataframe tbody tr th {\n",
       "        vertical-align: top;\n",
       "    }\n",
       "\n",
       "    .dataframe thead th {\n",
       "        text-align: right;\n",
       "    }\n",
       "</style>\n",
       "<table border=\"1\" class=\"dataframe\">\n",
       "  <thead>\n",
       "    <tr style=\"text-align: right;\">\n",
       "      <th></th>\n",
       "      <th>read_time</th>\n",
       "    </tr>\n",
       "    <tr>\n",
       "      <th>published_timestamp</th>\n",
       "      <th></th>\n",
       "    </tr>\n",
       "  </thead>\n",
       "  <tbody>\n",
       "    <tr>\n",
       "      <th>2012-08-13 22:54:53.510</th>\n",
       "      <td>5</td>\n",
       "    </tr>\n",
       "    <tr>\n",
       "      <th>2015-08-03 07:44:50.331</th>\n",
       "      <td>7</td>\n",
       "    </tr>\n",
       "    <tr>\n",
       "      <th>2017-02-05 13:08:17.410</th>\n",
       "      <td>2</td>\n",
       "    </tr>\n",
       "    <tr>\n",
       "      <th>2017-05-06 08:16:30.776</th>\n",
       "      <td>3</td>\n",
       "    </tr>\n",
       "    <tr>\n",
       "      <th>2017-06-04 14:46:25.772</th>\n",
       "      <td>4</td>\n",
       "    </tr>\n",
       "  </tbody>\n",
       "</table>\n",
       "</div>"
      ],
      "text/plain": [
       "                         read_time\n",
       "published_timestamp               \n",
       "2012-08-13 22:54:53.510          5\n",
       "2015-08-03 07:44:50.331          7\n",
       "2017-02-05 13:08:17.410          2\n",
       "2017-05-06 08:16:30.776          3\n",
       "2017-06-04 14:46:25.772          4"
      ]
     },
     "execution_count": 8,
     "metadata": {},
     "output_type": "execute_result"
    }
   ],
   "source": [
    "(\n",
    "    _\n",
    "    .assign(read_time = lambda x: x['read_time'].str.split(' ').str[0])\n",
    "    .astype({\n",
    "        'published_timestamp': 'datetime64[ns]',\n",
    "        'read_time': int\n",
    "    })\n",
    "    .set_index('published_timestamp')\n",
    "    ['read_time']\n",
    "    .to_frame()\n",
    ")"
   ]
  },
  {
   "cell_type": "markdown",
   "metadata": {},
   "source": [
    "#### The Good"
   ]
  },
  {
   "cell_type": "markdown",
   "metadata": {},
   "source": [
    "Dask allows us to build lazy computational graphs. For example, `db.read_text` will return a reference to each line of our jsonl file. After, `.map` applies `json.loads` to each line and `.to_dataframe` casts the data to a dask DataFrame preserving **only** the columns we explicitly tell it (in this case `published` and `meta_tags`). The rest of the code proceeds analogously with the previous implementations. The only difference is that **dask won't actually process anything until we call the `.compute` method**, returning a pandas DataFrame. In other words, a dask DataFrame is a lazy version of a pandas DataFrame. The same is true for series.\n",
    "\n",
    "Notice how we pass the `blocksize` parameter as 100 MB. Since our file has 2 GB, dask creates 20 independent partitions. Most methods that are called (like `.map` and `.assign`) run in parallel, potentially speeding up computation significantly. Memory is also spared, since we only load the fields we need."
   ]
  },
  {
   "cell_type": "code",
   "execution_count": 9,
   "metadata": {},
   "outputs": [
    {
     "data": {
      "text/html": [
       "<div><strong>Dask DataFrame Structure:</strong></div>\n",
       "<div>\n",
       "<style scoped>\n",
       "    .dataframe tbody tr th:only-of-type {\n",
       "        vertical-align: middle;\n",
       "    }\n",
       "\n",
       "    .dataframe tbody tr th {\n",
       "        vertical-align: top;\n",
       "    }\n",
       "\n",
       "    .dataframe thead th {\n",
       "        text-align: right;\n",
       "    }\n",
       "</style>\n",
       "<table border=\"1\" class=\"dataframe\">\n",
       "  <thead>\n",
       "    <tr style=\"text-align: right;\">\n",
       "      <th></th>\n",
       "      <th>published_timestamp</th>\n",
       "      <th>read_time</th>\n",
       "    </tr>\n",
       "    <tr>\n",
       "      <th>npartitions=20</th>\n",
       "      <th></th>\n",
       "      <th></th>\n",
       "    </tr>\n",
       "  </thead>\n",
       "  <tbody>\n",
       "    <tr>\n",
       "      <th></th>\n",
       "      <td>datetime64[ns]</td>\n",
       "      <td>int64</td>\n",
       "    </tr>\n",
       "    <tr>\n",
       "      <th></th>\n",
       "      <td>...</td>\n",
       "      <td>...</td>\n",
       "    </tr>\n",
       "    <tr>\n",
       "      <th>...</th>\n",
       "      <td>...</td>\n",
       "      <td>...</td>\n",
       "    </tr>\n",
       "    <tr>\n",
       "      <th></th>\n",
       "      <td>...</td>\n",
       "      <td>...</td>\n",
       "    </tr>\n",
       "    <tr>\n",
       "      <th></th>\n",
       "      <td>...</td>\n",
       "      <td>...</td>\n",
       "    </tr>\n",
       "  </tbody>\n",
       "</table>\n",
       "</div>\n",
       "<div>Dask Name: getitem, 120 tasks</div>"
      ],
      "text/plain": [
       "Dask DataFrame Structure:\n",
       "               published_timestamp read_time\n",
       "npartitions=20                              \n",
       "                    datetime64[ns]     int64\n",
       "                               ...       ...\n",
       "...                            ...       ...\n",
       "                               ...       ...\n",
       "                               ...       ...\n",
       "Dask Name: getitem, 120 tasks"
      ]
     },
     "execution_count": 9,
     "metadata": {},
     "output_type": "execute_result"
    }
   ],
   "source": [
    "dag = (\n",
    "    db\n",
    "    .read_text(train_file, blocksize=100*MEGABYTES)\n",
    "    .map(json.loads)\n",
    "    .to_dataframe({\n",
    "        'published': object,\n",
    "        'meta_tags': object\n",
    "    })\n",
    "    .assign(\n",
    "        published_timestamp=lambda df: df['published'].apply(get('$date')),\n",
    "        read_time=lambda df: df['meta_tags'].apply(get('twitter:data1')).str.split(' ').str[0],\n",
    "    )\n",
    "    .astype({\n",
    "        'published_timestamp': 'datetime64[ns]',\n",
    "        'read_time': int\n",
    "    })\n",
    "    [['published_timestamp', 'read_time']]\n",
    ")\n",
    "\n",
    "dag"
   ]
  },
  {
   "cell_type": "markdown",
   "metadata": {},
   "source": [
    "Other methods like `.head(N)` also force the dataframe to be computed. Since this call needs only the first `N` rows, dask will partially solve the graph such that only those are processed."
   ]
  },
  {
   "cell_type": "code",
   "execution_count": 10,
   "metadata": {},
   "outputs": [
    {
     "data": {
      "text/html": [
       "<div>\n",
       "<style scoped>\n",
       "    .dataframe tbody tr th:only-of-type {\n",
       "        vertical-align: middle;\n",
       "    }\n",
       "\n",
       "    .dataframe tbody tr th {\n",
       "        vertical-align: top;\n",
       "    }\n",
       "\n",
       "    .dataframe thead th {\n",
       "        text-align: right;\n",
       "    }\n",
       "</style>\n",
       "<table border=\"1\" class=\"dataframe\">\n",
       "  <thead>\n",
       "    <tr style=\"text-align: right;\">\n",
       "      <th></th>\n",
       "      <th>read_time</th>\n",
       "    </tr>\n",
       "    <tr>\n",
       "      <th>published_timestamp</th>\n",
       "      <th></th>\n",
       "    </tr>\n",
       "  </thead>\n",
       "  <tbody>\n",
       "    <tr>\n",
       "      <th>2012-08-13 22:54:53.510</th>\n",
       "      <td>5</td>\n",
       "    </tr>\n",
       "    <tr>\n",
       "      <th>2015-08-03 07:44:50.331</th>\n",
       "      <td>7</td>\n",
       "    </tr>\n",
       "    <tr>\n",
       "      <th>2017-02-05 13:08:17.410</th>\n",
       "      <td>2</td>\n",
       "    </tr>\n",
       "    <tr>\n",
       "      <th>2017-05-06 08:16:30.776</th>\n",
       "      <td>3</td>\n",
       "    </tr>\n",
       "    <tr>\n",
       "      <th>2017-06-04 14:46:25.772</th>\n",
       "      <td>4</td>\n",
       "    </tr>\n",
       "  </tbody>\n",
       "</table>\n",
       "</div>"
      ],
      "text/plain": [
       "                         read_time\n",
       "published_timestamp               \n",
       "2012-08-13 22:54:53.510          5\n",
       "2015-08-03 07:44:50.331          7\n",
       "2017-02-05 13:08:17.410          2\n",
       "2017-05-06 08:16:30.776          3\n",
       "2017-06-04 14:46:25.772          4"
      ]
     },
     "execution_count": 10,
     "metadata": {},
     "output_type": "execute_result"
    }
   ],
   "source": [
    "(\n",
    "    _\n",
    "    .head()\n",
    "    .set_index('published_timestamp')\n",
    ")"
   ]
  },
  {
   "cell_type": "markdown",
   "metadata": {},
   "source": [
    "# 4. Prediction"
   ]
  },
  {
   "cell_type": "markdown",
   "metadata": {},
   "source": [
    "Here we will implement simple linear regression for a single variable with intercept: $y = \\alpha + \\beta x$, the closed form solution is: \n",
    "\n",
    "$$\\beta = \\frac{cov(x,y)}{var(x)}$$\n",
    "$$\\alpha = \\bar{y} - \\beta \\bar{x}$$\n",
    "\n",
    "where $\\bar{y}$ and $\\bar{x}$ are the average values of the vectors $y$ and $x$, respectively.\n"
   ]
  },
  {
   "cell_type": "code",
   "execution_count": 11,
   "metadata": {},
   "outputs": [],
   "source": [
    "def linear_regression(y: np.array, x: np.array, prefix='') -> Dict[str, float]:\n",
    "    M = np.cov(x, y)\n",
    "    beta = M[0,1]/M[0,0]\n",
    "    alpha = y.mean() - beta*x.mean()\n",
    "    return {\n",
    "        prefix + 'alpha': alpha, \n",
    "        prefix + 'beta': beta\n",
    "    }"
   ]
  },
  {
   "cell_type": "code",
   "execution_count": 12,
   "metadata": {},
   "outputs": [
    {
     "data": {
      "text/html": [
       "<div>\n",
       "<style scoped>\n",
       "    .dataframe tbody tr th:only-of-type {\n",
       "        vertical-align: middle;\n",
       "    }\n",
       "\n",
       "    .dataframe tbody tr th {\n",
       "        vertical-align: top;\n",
       "    }\n",
       "\n",
       "    .dataframe thead th {\n",
       "        text-align: right;\n",
       "    }\n",
       "</style>\n",
       "<table border=\"1\" class=\"dataframe\">\n",
       "  <thead>\n",
       "    <tr style=\"text-align: right;\">\n",
       "      <th></th>\n",
       "      <th>mean</th>\n",
       "      <th>sum</th>\n",
       "    </tr>\n",
       "  </thead>\n",
       "  <tbody>\n",
       "    <tr>\n",
       "      <th>2015-01-01</th>\n",
       "      <td>8.380952</td>\n",
       "      <td>4928</td>\n",
       "    </tr>\n",
       "    <tr>\n",
       "      <th>2015-02-01</th>\n",
       "      <td>7.887564</td>\n",
       "      <td>4630</td>\n",
       "    </tr>\n",
       "    <tr>\n",
       "      <th>2015-03-01</th>\n",
       "      <td>7.907840</td>\n",
       "      <td>5749</td>\n",
       "    </tr>\n",
       "    <tr>\n",
       "      <th>2015-04-01</th>\n",
       "      <td>7.667149</td>\n",
       "      <td>5298</td>\n",
       "    </tr>\n",
       "    <tr>\n",
       "      <th>2015-05-01</th>\n",
       "      <td>8.307506</td>\n",
       "      <td>6862</td>\n",
       "    </tr>\n",
       "  </tbody>\n",
       "</table>\n",
       "</div>"
      ],
      "text/plain": [
       "                mean   sum\n",
       "2015-01-01  8.380952  4928\n",
       "2015-02-01  7.887564  4630\n",
       "2015-03-01  7.907840  5749\n",
       "2015-04-01  7.667149  5298\n",
       "2015-05-01  8.307506  6862"
      ]
     },
     "execution_count": 12,
     "metadata": {},
     "output_type": "execute_result"
    }
   ],
   "source": [
    "df = (\n",
    "    dag\n",
    "    .compute()\n",
    "    .set_index('published_timestamp')\n",
    "    ['2015':]\n",
    "    ['read_time']\n",
    "    .groupby(lambda i: pd.to_datetime(i.strftime('%Y/%m')))\n",
    "    .agg(['mean', 'sum'])\n",
    ")\n",
    "\n",
    "df.head()"
   ]
  },
  {
   "cell_type": "code",
   "execution_count": 13,
   "metadata": {},
   "outputs": [
    {
     "data": {
      "image/png": "[encoded data removed]",
      "text/plain": [
       "<Figure size 864x432 with 2 Axes>"
      ]
     },
     "metadata": {},
     "output_type": "display_data"
    }
   ],
   "source": [
    "df.plot(\n",
    "    style=['o--', 'og--'], figsize=(12,6),\n",
    "    subplots=True, title='Medium read time', fontsize=12\n",
    ");"
   ]
  },
  {
   "cell_type": "code",
   "execution_count": 17,
   "metadata": {},
   "outputs": [
    {
     "data": {
      "text/html": [
       "<div>\n",
       "<style scoped>\n",
       "    .dataframe tbody tr th:only-of-type {\n",
       "        vertical-align: middle;\n",
       "    }\n",
       "\n",
       "    .dataframe tbody tr th {\n",
       "        vertical-align: top;\n",
       "    }\n",
       "\n",
       "    .dataframe thead th {\n",
       "        text-align: right;\n",
       "    }\n",
       "</style>\n",
       "<table border=\"1\" class=\"dataframe\">\n",
       "  <thead>\n",
       "    <tr style=\"text-align: right;\">\n",
       "      <th></th>\n",
       "      <th>mean_alpha</th>\n",
       "      <th>mean_beta</th>\n",
       "      <th>sum_alpha</th>\n",
       "      <th>sum_beta</th>\n",
       "      <th>mean_pred</th>\n",
       "      <th>sum_pred</th>\n",
       "    </tr>\n",
       "  </thead>\n",
       "  <tbody>\n",
       "    <tr>\n",
       "      <th>2015-01-01</th>\n",
       "      <td>27.130799</td>\n",
       "      <td>-1.351069e-17</td>\n",
       "      <td>-407905.660648</td>\n",
       "      <td>2.892460e-13</td>\n",
       "      <td>7.944669</td>\n",
       "      <td>2844.030846</td>\n",
       "    </tr>\n",
       "    <tr>\n",
       "      <th>2015-02-01</th>\n",
       "      <td>27.130799</td>\n",
       "      <td>-1.351069e-17</td>\n",
       "      <td>-407905.660648</td>\n",
       "      <td>2.892460e-13</td>\n",
       "      <td>7.908482</td>\n",
       "      <td>3618.747348</td>\n",
       "    </tr>\n",
       "    <tr>\n",
       "      <th>2015-03-01</th>\n",
       "      <td>27.130799</td>\n",
       "      <td>-1.351069e-17</td>\n",
       "      <td>-407905.660648</td>\n",
       "      <td>2.892460e-13</td>\n",
       "      <td>7.875797</td>\n",
       "      <td>4318.491286</td>\n",
       "    </tr>\n",
       "    <tr>\n",
       "      <th>2015-04-01</th>\n",
       "      <td>27.130799</td>\n",
       "      <td>-1.351069e-17</td>\n",
       "      <td>-407905.660648</td>\n",
       "      <td>2.892460e-13</td>\n",
       "      <td>7.839610</td>\n",
       "      <td>5093.207789</td>\n",
       "    </tr>\n",
       "    <tr>\n",
       "      <th>2015-05-01</th>\n",
       "      <td>27.130799</td>\n",
       "      <td>-1.351069e-17</td>\n",
       "      <td>-407905.660648</td>\n",
       "      <td>2.892460e-13</td>\n",
       "      <td>7.804590</td>\n",
       "      <td>5842.933436</td>\n",
       "    </tr>\n",
       "  </tbody>\n",
       "</table>\n",
       "</div>"
      ],
      "text/plain": [
       "            mean_alpha     mean_beta      sum_alpha      sum_beta  mean_pred  \\\n",
       "2015-01-01   27.130799 -1.351069e-17 -407905.660648  2.892460e-13   7.944669   \n",
       "2015-02-01   27.130799 -1.351069e-17 -407905.660648  2.892460e-13   7.908482   \n",
       "2015-03-01   27.130799 -1.351069e-17 -407905.660648  2.892460e-13   7.875797   \n",
       "2015-04-01   27.130799 -1.351069e-17 -407905.660648  2.892460e-13   7.839610   \n",
       "2015-05-01   27.130799 -1.351069e-17 -407905.660648  2.892460e-13   7.804590   \n",
       "\n",
       "               sum_pred  \n",
       "2015-01-01  2844.030846  \n",
       "2015-02-01  3618.747348  \n",
       "2015-03-01  4318.491286  \n",
       "2015-04-01  5093.207789  \n",
       "2015-05-01  5842.933436  "
      ]
     },
     "execution_count": 17,
     "metadata": {},
     "output_type": "execute_result"
    }
   ],
   "source": [
    "df_pred = (\n",
    "    df\n",
    "    .assign(**linear_regression(df['mean'], df.index.asi8, prefix='mean_'))\n",
    "    .assign(**linear_regression(df['sum'], df.index.asi8, prefix='sum_'))\n",
    "    .assign(mean_pred = lambda z: z['mean_alpha'] + z['mean_beta']*z.index.asi8)\n",
    "    .assign(sum_pred = lambda z: z['sum_alpha'] + z['sum_beta']*z.index.asi8)\n",
    ")\n",
    "\n",
    "df_pred[['mean_alpha', 'mean_beta', 'sum_alpha', 'sum_beta', 'mean_pred', 'sum_pred']].head()"
   ]
  },
  {
   "cell_type": "code",
   "execution_count": 15,
   "metadata": {},
   "outputs": [
    {
     "data": {
      "image/png": "[encoded data removed]",
      "text/plain": [
       "<Figure size 864x360 with 1 Axes>"
      ]
     },
     "metadata": {},
     "output_type": "display_data"
    }
   ],
   "source": [
    "(\n",
    "    df_pred\n",
    "    [['mean', 'mean_pred']]\n",
    "    .plot(figsize=(12,5), style=['o--', '--'])\n",
    ");"
   ]
  },
  {
   "cell_type": "code",
   "execution_count": 16,
   "metadata": {},
   "outputs": [
    {
     "data": {
      "image/png": "[encoded data removed]",
      "text/plain": [
       "<Figure size 864x360 with 1 Axes>"
      ]
     },
     "metadata": {},
     "output_type": "display_data"
    }
   ],
   "source": [
    "(\n",
    "    df_pred\n",
    "    [['sum', 'sum_pred']]\n",
    "    .plot(figsize=(12,5), style=['o--', '--'])\n",
    ");"
   ]
  }
 ],
 "metadata": {
  "kernelspec": {
   "display_name": "dsevero.com",
   "language": "python",
   "name": "dsevero.com"
  },
  "language_info": {
   "codemirror_mode": {
    "name": "ipython",
    "version": 3
   },
   "file_extension": ".py",
   "mimetype": "text/x-python",
   "name": "python",
   "nbconvert_exporter": "python",
   "pygments_lexer": "ipython3",
   "version": "3.7.1"
  }
 },
 "nbformat": 4,
 "nbformat_minor": 2
}
