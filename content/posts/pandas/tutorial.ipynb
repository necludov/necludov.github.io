{
  "nbformat": 4,
  "nbformat_minor": 0,
  "metadata": {
    "kernelspec": {
      "display_name": "Python 3",
      "language": "python",
      "name": "python3"
    },
    "language_info": {
      "codemirror_mode": {
        "name": "ipython",
        "version": 3
      },
      "file_extension": ".py",
      "mimetype": "text/x-python",
      "name": "python",
      "nbconvert_exporter": "python",
      "pygments_lexer": "ipython3",
      "version": "3.7.4"
    },
    "colab": {
      "name": "tutorial.ipynb",
      "provenance": [],
      "include_colab_link": true
    }
  },
  "cells": [
    {
      "cell_type": "markdown",
      "metadata": {
        "id": "view-in-github",
        "colab_type": "text"
      },
      "source": [
        "<a href=\"https://colab.research.google.com/github/dsevero/dsevero/blob/master/content/posts/pandas/tutorial.ipynb\" target=\"_parent\"><img src=\"https://colab.research.google.com/assets/colab-badge.svg\" alt=\"Open In Colab\"/></a>"
      ]
    },
    {
      "cell_type": "markdown",
      "metadata": {
        "id": "hVIoahaBagNP"
      },
      "source": [
        "Last updated: 01/Feb/2021"
      ]
    },
    {
      "cell_type": "markdown",
      "metadata": {
        "id": "d_0-7nspZiEN"
      },
      "source": [
        "Here we will show you how to properly use the Python Data Analysis Library (pandas) and numpy. This will help you complete the current (and future) credit assignments. The agenda is:\n",
        "\n",
        "1. How to load data from csv files\n",
        "2. The basic pandas objects: DataFrames and Series\n",
        "3. Handling Time-Series data\n",
        "4. Resampling (optional)\n",
        "5. From pandas to numpy\n",
        "6. Simple Linear Regression"
      ]
    },
    {
      "cell_type": "markdown",
      "metadata": {
        "id": "R19-YlUHZiEX"
      },
      "source": [
        "The following ipython magic (this is literally the name) will enable plots made by matplotlib to be rendered inside this notebook."
      ]
    },
    {
      "cell_type": "code",
      "metadata": {
        "id": "JFGLcc3FZiEY"
      },
      "source": [
        "%matplotlib inline "
      ],
      "execution_count": 1,
      "outputs": []
    },
    {
      "cell_type": "code",
      "metadata": {
        "id": "L7LBuXI4ZiEZ"
      },
      "source": [
        "import pandas as pd\n",
        "import numpy as np\n",
        "import matplotlib.pyplot as plt\n",
        "plt.style.use('ggplot') # changes the plotting style"
      ],
      "execution_count": 2,
      "outputs": []
    },
    {
      "cell_type": "markdown",
      "metadata": {
        "id": "r6UvqqEHZiEZ"
      },
      "source": [
        "# 1. Load data"
      ]
    },
    {
      "cell_type": "markdown",
      "metadata": {
        "id": "Q03n--YEZiEa"
      },
      "source": [
        "The file `data/monthly-milk-production-pounds-p.csv` contains the average monthly milk production, in pounds, of cows from Jan/1962 to Dec/1975. More information can be found here: https://datamarket.com/data/set/22ox/monthly-milk-production-pounds-per-cow-jan-62-dec-75\n",
        "\n",
        "First, we must load this data with pandas for further analysis."
      ]
    },
    {
      "cell_type": "code",
      "metadata": {
        "id": "5_0YqI-WZiEa"
      },
      "source": [
        "df = pd.read_csv('https://github.com/plotly/datasets/raw/master/monthly-milk-production-pounds.csv')"
      ],
      "execution_count": 3,
      "outputs": []
    },
    {
      "cell_type": "code",
      "metadata": {
        "colab": {
          "base_uri": "https://localhost:8080/",
          "height": 195
        },
        "id": "xDSIMd8cZiEa",
        "outputId": "2106e1e4-63e8-488d-86dc-fa4d183ce7c5"
      },
      "source": [
        "df.head()"
      ],
      "execution_count": 4,
      "outputs": [
        {
          "output_type": "execute_result",
          "data": {
            "text/html": [
              "<div>\n",
              "<style scoped>\n",
              "    .dataframe tbody tr th:only-of-type {\n",
              "        vertical-align: middle;\n",
              "    }\n",
              "\n",
              "    .dataframe tbody tr th {\n",
              "        vertical-align: top;\n",
              "    }\n",
              "\n",
              "    .dataframe thead th {\n",
              "        text-align: right;\n",
              "    }\n",
              "</style>\n",
              "<table border=\"1\" class=\"dataframe\">\n",
              "  <thead>\n",
              "    <tr style=\"text-align: right;\">\n",
              "      <th></th>\n",
              "      <th>Month</th>\n",
              "      <th>Monthly milk production (pounds per cow)</th>\n",
              "    </tr>\n",
              "  </thead>\n",
              "  <tbody>\n",
              "    <tr>\n",
              "      <th>0</th>\n",
              "      <td>1962-01</td>\n",
              "      <td>589</td>\n",
              "    </tr>\n",
              "    <tr>\n",
              "      <th>1</th>\n",
              "      <td>1962-02</td>\n",
              "      <td>561</td>\n",
              "    </tr>\n",
              "    <tr>\n",
              "      <th>2</th>\n",
              "      <td>1962-03</td>\n",
              "      <td>640</td>\n",
              "    </tr>\n",
              "    <tr>\n",
              "      <th>3</th>\n",
              "      <td>1962-04</td>\n",
              "      <td>656</td>\n",
              "    </tr>\n",
              "    <tr>\n",
              "      <th>4</th>\n",
              "      <td>1962-05</td>\n",
              "      <td>727</td>\n",
              "    </tr>\n",
              "  </tbody>\n",
              "</table>\n",
              "</div>"
            ],
            "text/plain": [
              "     Month  Monthly milk production (pounds per cow)\n",
              "0  1962-01                                       589\n",
              "1  1962-02                                       561\n",
              "2  1962-03                                       640\n",
              "3  1962-04                                       656\n",
              "4  1962-05                                       727"
            ]
          },
          "metadata": {
            "tags": []
          },
          "execution_count": 4
        }
      ]
    },
    {
      "cell_type": "code",
      "metadata": {
        "colab": {
          "base_uri": "https://localhost:8080/"
        },
        "id": "Rf8r7BrEZiEc",
        "outputId": "34ae6888-654b-4a68-95b6-60c981151659"
      },
      "source": [
        "type(df)"
      ],
      "execution_count": 5,
      "outputs": [
        {
          "output_type": "execute_result",
          "data": {
            "text/plain": [
              "pandas.core.frame.DataFrame"
            ]
          },
          "metadata": {
            "tags": []
          },
          "execution_count": 5
        }
      ]
    },
    {
      "cell_type": "markdown",
      "metadata": {
        "id": "ZQPfppWmZiEd"
      },
      "source": [
        "Calling `.head()` truncates the dataset to the first 5 lines (plus the header). Notice that the type of `df` is a pandas DataFrame. This is similar to an Excel table, but much more powerful. Since pandas is a widely used library, Jupyter automatically shows the dataframe as a formatted HTML."
      ]
    },
    {
      "cell_type": "markdown",
      "metadata": {
        "id": "HskKZMltZiEd"
      },
      "source": [
        "# 2. The basic pandas objects: DataFrames and Series"
      ]
    },
    {
      "cell_type": "markdown",
      "metadata": {
        "id": "jC6cSSMRZiEe"
      },
      "source": [
        "Let's take a look at each column individually."
      ]
    },
    {
      "cell_type": "code",
      "metadata": {
        "colab": {
          "base_uri": "https://localhost:8080/"
        },
        "id": "EHNAEMn1ZiEe",
        "outputId": "3fd9d26e-1085-477f-a270-ebccf4369d32"
      },
      "source": [
        "df['Month'].head()"
      ],
      "execution_count": 6,
      "outputs": [
        {
          "output_type": "execute_result",
          "data": {
            "text/plain": [
              "0    1962-01\n",
              "1    1962-02\n",
              "2    1962-03\n",
              "3    1962-04\n",
              "4    1962-05\n",
              "Name: Month, dtype: object"
            ]
          },
          "metadata": {
            "tags": []
          },
          "execution_count": 6
        }
      ]
    },
    {
      "cell_type": "code",
      "metadata": {
        "colab": {
          "base_uri": "https://localhost:8080/"
        },
        "id": "7mzbOXoZZiEf",
        "outputId": "67cb92dc-5a47-417f-91f1-9e7c1d9bd360"
      },
      "source": [
        "df['Monthly milk production (pounds per cow)'].head()"
      ],
      "execution_count": 7,
      "outputs": [
        {
          "output_type": "execute_result",
          "data": {
            "text/plain": [
              "0    589\n",
              "1    561\n",
              "2    640\n",
              "3    656\n",
              "4    727\n",
              "Name: Monthly milk production (pounds per cow), dtype: int64"
            ]
          },
          "metadata": {
            "tags": []
          },
          "execution_count": 7
        }
      ]
    },
    {
      "cell_type": "code",
      "metadata": {
        "colab": {
          "base_uri": "https://localhost:8080/"
        },
        "id": "yTlPgiohZiEf",
        "outputId": "93dd8073-d280-40c3-bda1-1496b3ccf5ba"
      },
      "source": [
        "type(df['Month'])"
      ],
      "execution_count": 8,
      "outputs": [
        {
          "output_type": "execute_result",
          "data": {
            "text/plain": [
              "pandas.core.series.Series"
            ]
          },
          "metadata": {
            "tags": []
          },
          "execution_count": 8
        }
      ]
    },
    {
      "cell_type": "markdown",
      "metadata": {
        "id": "iGCulE3UZiEf"
      },
      "source": [
        "A pandas Series is the second basic type. In a nutshell, Series are made up of values and an index. For both columns, the index can be seen printed on the far left and the elements are `0, 1, 2, 3,` and `4`. The values are the points of interest (e.g. dates for the `Month` column and `589, 561, 640, 656` and `727` for the other).\n",
        "\n",
        "A pandas DataFrame is made up of multiple Series, each representing a column, and an index.\n",
        "\n",
        "The columns of a DataFrame can be accessed through slicing (as previously shown). Since the names are hard to write, we can change them like so:"
      ]
    },
    {
      "cell_type": "code",
      "metadata": {
        "id": "6XPRf_UFZiEg"
      },
      "source": [
        "df.columns = ['month', 'milk']"
      ],
      "execution_count": 9,
      "outputs": []
    },
    {
      "cell_type": "markdown",
      "metadata": {
        "id": "0b1npL0PZiEg"
      },
      "source": [
        "# 3. Handling Time-Series data"
      ]
    },
    {
      "cell_type": "code",
      "metadata": {
        "colab": {
          "base_uri": "https://localhost:8080/",
          "height": 195
        },
        "id": "TViCwq6AZiEh",
        "outputId": "41618b97-1072-48d7-ccaa-dc5440c61cb1"
      },
      "source": [
        "df.head()"
      ],
      "execution_count": 10,
      "outputs": [
        {
          "output_type": "execute_result",
          "data": {
            "text/html": [
              "<div>\n",
              "<style scoped>\n",
              "    .dataframe tbody tr th:only-of-type {\n",
              "        vertical-align: middle;\n",
              "    }\n",
              "\n",
              "    .dataframe tbody tr th {\n",
              "        vertical-align: top;\n",
              "    }\n",
              "\n",
              "    .dataframe thead th {\n",
              "        text-align: right;\n",
              "    }\n",
              "</style>\n",
              "<table border=\"1\" class=\"dataframe\">\n",
              "  <thead>\n",
              "    <tr style=\"text-align: right;\">\n",
              "      <th></th>\n",
              "      <th>month</th>\n",
              "      <th>milk</th>\n",
              "    </tr>\n",
              "  </thead>\n",
              "  <tbody>\n",
              "    <tr>\n",
              "      <th>0</th>\n",
              "      <td>1962-01</td>\n",
              "      <td>589</td>\n",
              "    </tr>\n",
              "    <tr>\n",
              "      <th>1</th>\n",
              "      <td>1962-02</td>\n",
              "      <td>561</td>\n",
              "    </tr>\n",
              "    <tr>\n",
              "      <th>2</th>\n",
              "      <td>1962-03</td>\n",
              "      <td>640</td>\n",
              "    </tr>\n",
              "    <tr>\n",
              "      <th>3</th>\n",
              "      <td>1962-04</td>\n",
              "      <td>656</td>\n",
              "    </tr>\n",
              "    <tr>\n",
              "      <th>4</th>\n",
              "      <td>1962-05</td>\n",
              "      <td>727</td>\n",
              "    </tr>\n",
              "  </tbody>\n",
              "</table>\n",
              "</div>"
            ],
            "text/plain": [
              "     month  milk\n",
              "0  1962-01   589\n",
              "1  1962-02   561\n",
              "2  1962-03   640\n",
              "3  1962-04   656\n",
              "4  1962-05   727"
            ]
          },
          "metadata": {
            "tags": []
          },
          "execution_count": 10
        }
      ]
    },
    {
      "cell_type": "code",
      "metadata": {
        "colab": {
          "base_uri": "https://localhost:8080/"
        },
        "id": "fieHVRbAZiEh",
        "outputId": "158488eb-0197-4776-e10d-2f10e43cd7ab"
      },
      "source": [
        "df.info()"
      ],
      "execution_count": 11,
      "outputs": [
        {
          "output_type": "stream",
          "text": [
            "<class 'pandas.core.frame.DataFrame'>\n",
            "RangeIndex: 168 entries, 0 to 167\n",
            "Data columns (total 2 columns):\n",
            " #   Column  Non-Null Count  Dtype \n",
            "---  ------  --------------  ----- \n",
            " 0   month   168 non-null    object\n",
            " 1   milk    168 non-null    int64 \n",
            "dtypes: int64(1), object(1)\n",
            "memory usage: 2.8+ KB\n"
          ],
          "name": "stdout"
        }
      ]
    },
    {
      "cell_type": "markdown",
      "metadata": {
        "id": "WIr-kz8FZiEi"
      },
      "source": [
        "The `.info()` function gives us some insight on which data-types are being used to represent the values of each column. Notice how the `milk` column is of type `int64`. Hence, we can perform arithmetic and plotting operations like so:"
      ]
    },
    {
      "cell_type": "code",
      "metadata": {
        "colab": {
          "base_uri": "https://localhost:8080/",
          "height": 265
        },
        "id": "yW0T1KfXZiEi",
        "outputId": "f544535d-723d-44fa-ca47-d1019a482394"
      },
      "source": [
        "df['milk'].plot();"
      ],
      "execution_count": 12,
      "outputs": [
        {
          "output_type": "display_data",
          "data": {
            "image/png": "[encoded data removed]",
            "text/plain": [
              "<Figure size 432x288 with 1 Axes>"
            ]
          },
          "metadata": {
            "tags": []
          }
        }
      ]
    },
    {
      "cell_type": "code",
      "metadata": {
        "colab": {
          "base_uri": "https://localhost:8080/"
        },
        "id": "9dclixedZiEi",
        "outputId": "1b86c9c8-059a-4a6b-e290-d01a8b638776"
      },
      "source": [
        "df['milk'].mean()"
      ],
      "execution_count": 13,
      "outputs": [
        {
          "output_type": "execute_result",
          "data": {
            "text/plain": [
              "754.7083333333334"
            ]
          },
          "metadata": {
            "tags": []
          },
          "execution_count": 13
        }
      ]
    },
    {
      "cell_type": "code",
      "metadata": {
        "colab": {
          "base_uri": "https://localhost:8080/"
        },
        "id": "hwWjQ2wmZiEj",
        "outputId": "3e446d73-ddbf-46ff-fec8-7b0f57a198ed"
      },
      "source": [
        "df['milk'].var()"
      ],
      "execution_count": 14,
      "outputs": [
        {
          "output_type": "execute_result",
          "data": {
            "text/plain": [
              "10445.76472055888"
            ]
          },
          "metadata": {
            "tags": []
          },
          "execution_count": 14
        }
      ]
    },
    {
      "cell_type": "markdown",
      "metadata": {
        "id": "4sNSWK5rZiEj"
      },
      "source": [
        "The `month` column is of type `object`. This is python's way of telling you that this column is of mixed type. Hence, it is a little bit trickier to manipulate. Due to the internals of pandas, a Series that has all values of type `str` will still be refered to as of type `object`. This is the case of the `month` column."
      ]
    },
    {
      "cell_type": "code",
      "metadata": {
        "colab": {
          "base_uri": "https://localhost:8080/"
        },
        "id": "gJ-msshsZiEk",
        "outputId": "d43ff6bc-25b3-44cb-ec8b-75e2166335b5"
      },
      "source": [
        "df['month'].apply(type).unique()"
      ],
      "execution_count": 15,
      "outputs": [
        {
          "output_type": "execute_result",
          "data": {
            "text/plain": [
              "array([<class 'str'>], dtype=object)"
            ]
          },
          "metadata": {
            "tags": []
          },
          "execution_count": 15
        }
      ]
    },
    {
      "cell_type": "markdown",
      "metadata": {
        "id": "92XlFZkzZiEk"
      },
      "source": [
        "The `.apply` function will apply the argument function (in this case `type`) to every single element of the series. `unique` will return to us the unique values of the series (i.e. it will drop all duplicates). Calling both together let's us see what data-types are present in the Series. As can be seen, all are of type `str`."
      ]
    },
    {
      "cell_type": "markdown",
      "metadata": {
        "id": "wqgEXAZIZiEl"
      },
      "source": [
        "pandas has a built-in timestamp data-type. It works like so."
      ]
    },
    {
      "cell_type": "code",
      "metadata": {
        "colab": {
          "base_uri": "https://localhost:8080/"
        },
        "id": "q09H27IPZiEl",
        "outputId": "2114fd93-3731-47c6-a963-43c3b3cf0818"
      },
      "source": [
        "pd.Timestamp('now')"
      ],
      "execution_count": 16,
      "outputs": [
        {
          "output_type": "execute_result",
          "data": {
            "text/plain": [
              "Timestamp('2021-02-02 01:44:34.736489')"
            ]
          },
          "metadata": {
            "tags": []
          },
          "execution_count": 16
        }
      ]
    },
    {
      "cell_type": "code",
      "metadata": {
        "colab": {
          "base_uri": "https://localhost:8080/"
        },
        "id": "tKN4x0R7ZiEm",
        "outputId": "fa39c5be-bc2e-4be3-b728-d22963166158"
      },
      "source": [
        "pd.Timestamp('1992-03-23')"
      ],
      "execution_count": 17,
      "outputs": [
        {
          "output_type": "execute_result",
          "data": {
            "text/plain": [
              "Timestamp('1992-03-23 00:00:00')"
            ]
          },
          "metadata": {
            "tags": []
          },
          "execution_count": 17
        }
      ]
    },
    {
      "cell_type": "code",
      "metadata": {
        "colab": {
          "base_uri": "https://localhost:8080/"
        },
        "id": "kb2wDqbwZiEm",
        "outputId": "e70598d9-2ecf-44e8-aa7a-c52bf8b7c0e3"
      },
      "source": [
        "pd.Timestamp('1992-03-23 04')"
      ],
      "execution_count": 18,
      "outputs": [
        {
          "output_type": "execute_result",
          "data": {
            "text/plain": [
              "Timestamp('1992-03-23 04:00:00')"
            ]
          },
          "metadata": {
            "tags": []
          },
          "execution_count": 18
        }
      ]
    },
    {
      "cell_type": "markdown",
      "metadata": {
        "id": "0CmQ_iJiZiEm"
      },
      "source": [
        "Internally, pandas stores a date as the amount of time that has passed since `1970-01-01 00:00:00`. This date is represented as `pd.Timestamp(0)`. This is useful for linear regression, since it allows us to convert timestamp data to integers without loss of reference."
      ]
    },
    {
      "cell_type": "code",
      "metadata": {
        "colab": {
          "base_uri": "https://localhost:8080/"
        },
        "id": "hVL_0ApwZiEn",
        "outputId": "306567c0-b01f-4f33-82e4-30e16f3da10b"
      },
      "source": [
        "pd.Timestamp(0)"
      ],
      "execution_count": 19,
      "outputs": [
        {
          "output_type": "execute_result",
          "data": {
            "text/plain": [
              "Timestamp('1970-01-01 00:00:00')"
            ]
          },
          "metadata": {
            "tags": []
          },
          "execution_count": 19
        }
      ]
    },
    {
      "cell_type": "code",
      "metadata": {
        "colab": {
          "base_uri": "https://localhost:8080/"
        },
        "id": "NYa_2XCUZiEn",
        "outputId": "54ea246a-0e2b-4d14-c402-c9f66ad12c7b"
      },
      "source": [
        "pd.Timestamp('now') > pd.Timestamp('1992-03-23 04')"
      ],
      "execution_count": 20,
      "outputs": [
        {
          "output_type": "execute_result",
          "data": {
            "text/plain": [
              "True"
            ]
          },
          "metadata": {
            "tags": []
          },
          "execution_count": 20
        }
      ]
    },
    {
      "cell_type": "markdown",
      "metadata": {
        "id": "uGAlWxubZiEo"
      },
      "source": [
        "We can transform the `month` column into `pd.Timestamp` values with `pd.to_datetime` and set it as the index of a new time-series."
      ]
    },
    {
      "cell_type": "code",
      "metadata": {
        "id": "Qvyn4-k8ZiEo"
      },
      "source": [
        "df['month'] = pd.to_datetime(df['month'])"
      ],
      "execution_count": 21,
      "outputs": []
    },
    {
      "cell_type": "code",
      "metadata": {
        "id": "ObGzdwRsZiEo"
      },
      "source": [
        "s = df.set_index('month')['milk']"
      ],
      "execution_count": 22,
      "outputs": []
    },
    {
      "cell_type": "code",
      "metadata": {
        "colab": {
          "base_uri": "https://localhost:8080/"
        },
        "id": "GToAWYPxZiEo",
        "outputId": "dd7190e1-940f-4f68-d4e4-0ebe97f93a76"
      },
      "source": [
        "s.head()"
      ],
      "execution_count": 23,
      "outputs": [
        {
          "output_type": "execute_result",
          "data": {
            "text/plain": [
              "month\n",
              "1962-01-01    589\n",
              "1962-02-01    561\n",
              "1962-03-01    640\n",
              "1962-04-01    656\n",
              "1962-05-01    727\n",
              "Name: milk, dtype: int64"
            ]
          },
          "metadata": {
            "tags": []
          },
          "execution_count": 23
        }
      ]
    },
    {
      "cell_type": "code",
      "metadata": {
        "colab": {
          "base_uri": "https://localhost:8080/"
        },
        "id": "lAxaQCZTZiEp",
        "outputId": "bcfd43a3-c2e9-47f5-a2a9-5912da465338"
      },
      "source": [
        "s.index[0]"
      ],
      "execution_count": 24,
      "outputs": [
        {
          "output_type": "execute_result",
          "data": {
            "text/plain": [
              "Timestamp('1962-01-01 00:00:00')"
            ]
          },
          "metadata": {
            "tags": []
          },
          "execution_count": 24
        }
      ]
    },
    {
      "cell_type": "code",
      "metadata": {
        "colab": {
          "base_uri": "https://localhost:8080/"
        },
        "id": "ExSpSt3lZiEp",
        "outputId": "c11b75cd-e1c7-4f0c-d125-fba105cf8e54"
      },
      "source": [
        "s.values[0]"
      ],
      "execution_count": 25,
      "outputs": [
        {
          "output_type": "execute_result",
          "data": {
            "text/plain": [
              "589"
            ]
          },
          "metadata": {
            "tags": []
          },
          "execution_count": 25
        }
      ]
    },
    {
      "cell_type": "code",
      "metadata": {
        "colab": {
          "base_uri": "https://localhost:8080/",
          "height": 282
        },
        "id": "4Kw3e7oOZiEq",
        "outputId": "d012e1df-8bd1-4ebd-87fe-7ca40a89ef91"
      },
      "source": [
        "s.plot();"
      ],
      "execution_count": 26,
      "outputs": [
        {
          "output_type": "display_data",
          "data": {
            "image/png": "[encoded data removed]",
            "text/plain": [
              "<Figure size 432x288 with 1 Axes>"
            ]
          },
          "metadata": {
            "tags": []
          }
        }
      ]
    },
    {
      "cell_type": "markdown",
      "metadata": {
        "id": "K7hEKfyzZiEq"
      },
      "source": [
        "Notice how the x-axis of the above plot differs from the first one of this same section, since the index of `s` is a timestamp-like-type. The timestamp index of `s` is also manipulatable. Time-aware slices are also now available."
      ]
    },
    {
      "cell_type": "code",
      "metadata": {
        "colab": {
          "base_uri": "https://localhost:8080/"
        },
        "id": "izfNcePZZiEq",
        "outputId": "1d7273a6-1dcd-4ee8-b25a-a7571bb3e5ab"
      },
      "source": [
        "s.index.min()"
      ],
      "execution_count": 27,
      "outputs": [
        {
          "output_type": "execute_result",
          "data": {
            "text/plain": [
              "Timestamp('1962-01-01 00:00:00')"
            ]
          },
          "metadata": {
            "tags": []
          },
          "execution_count": 27
        }
      ]
    },
    {
      "cell_type": "code",
      "metadata": {
        "colab": {
          "base_uri": "https://localhost:8080/"
        },
        "id": "6rC6nKyJZiEr",
        "outputId": "097eb810-335b-420d-d713-0f37a6fb87a1"
      },
      "source": [
        "s.index.max()"
      ],
      "execution_count": 28,
      "outputs": [
        {
          "output_type": "execute_result",
          "data": {
            "text/plain": [
              "Timestamp('1975-12-01 00:00:00')"
            ]
          },
          "metadata": {
            "tags": []
          },
          "execution_count": 28
        }
      ]
    },
    {
      "cell_type": "code",
      "metadata": {
        "colab": {
          "base_uri": "https://localhost:8080/",
          "height": 294
        },
        "id": "LvVzo7SKZiEr",
        "outputId": "9eddf29b-adbb-44da-dc63-529493b46627"
      },
      "source": [
        "s['1970'].plot();"
      ],
      "execution_count": 29,
      "outputs": [
        {
          "output_type": "display_data",
          "data": {
            "image/png": "[encoded data removed]",
            "text/plain": [
              "<Figure size 432x288 with 1 Axes>"
            ]
          },
          "metadata": {
            "tags": []
          }
        }
      ]
    },
    {
      "cell_type": "code",
      "metadata": {
        "colab": {
          "base_uri": "https://localhost:8080/",
          "height": 294
        },
        "id": "_0kq7TJcZiEr",
        "outputId": "48087353-a671-4e17-9711-396e9e7d4d82"
      },
      "source": [
        "s['1970':'1972'].plot(style='o--');"
      ],
      "execution_count": 30,
      "outputs": [
        {
          "output_type": "display_data",
          "data": {
            "image/png": "[encoded data removed]",
            "text/plain": [
              "<Figure size 432x288 with 1 Axes>"
            ]
          },
          "metadata": {
            "tags": []
          }
        }
      ]
    },
    {
      "cell_type": "markdown",
      "metadata": {
        "id": "CdMDZNOUZiEs"
      },
      "source": [
        "# 4. Resampling (optional)"
      ]
    },
    {
      "cell_type": "markdown",
      "metadata": {
        "id": "xRinIgeLZiEs"
      },
      "source": [
        "Looking at the plots it is pretty clear that the data trend is rising, but it fluctuates yearly reaching a local peak around June. How can we calculate the yearly mean as an attempt to smooth out the data? Luckily, `s` is a time-series (i.e. has a time index and numeric values), we can use the `.resample` function. This will allow us to group the data chronologically, given that we supply an aggregating function (i.e. `mean`, `std`, `var`, `median`, etc)."
      ]
    },
    {
      "cell_type": "code",
      "metadata": {
        "colab": {
          "base_uri": "https://localhost:8080/",
          "height": 282
        },
        "id": "hLvKs7eIZiEt",
        "outputId": "3ba07b5d-336f-4142-f604-dc2e338ef916"
      },
      "source": [
        "s.resample('12M').mean().plot(style='o--');"
      ],
      "execution_count": 31,
      "outputs": [
        {
          "output_type": "display_data",
          "data": {
            "image/png": "[encoded data removed]",
            "text/plain": [
              "<Figure size 432x288 with 1 Axes>"
            ]
          },
          "metadata": {
            "tags": []
          }
        }
      ]
    },
    {
      "cell_type": "code",
      "metadata": {
        "colab": {
          "base_uri": "https://localhost:8080/",
          "height": 282
        },
        "id": "EFYmo8M5ZiEt",
        "outputId": "ae94dc8c-9b26-4631-8969-e01c7c00f30a"
      },
      "source": [
        "s.resample('6M').mean().plot(style='o--');"
      ],
      "execution_count": 32,
      "outputs": [
        {
          "output_type": "display_data",
          "data": {
            "image/png": "[encoded data removed]",
            "text/plain": [
              "<Figure size 432x288 with 1 Axes>"
            ]
          },
          "metadata": {
            "tags": []
          }
        }
      ]
    },
    {
      "cell_type": "markdown",
      "metadata": {
        "id": "v4K057UNZiEt"
      },
      "source": [
        "# 5. From pandas to numpy"
      ]
    },
    {
      "cell_type": "markdown",
      "metadata": {
        "id": "xVbTKFnIZiEu"
      },
      "source": [
        "Numpy provides vector data-types and operations making it easy to work with linear algebra. In fact, this works so well, that pandas is actually built on top of numpy. The values of a pandas Series, and the values of the index are numpy ndarrays."
      ]
    },
    {
      "cell_type": "code",
      "metadata": {
        "colab": {
          "base_uri": "https://localhost:8080/"
        },
        "id": "8BGT2lBHZiEu",
        "outputId": "5e145d70-44a4-43d4-eb92-f794c9ac4757"
      },
      "source": [
        "type(s.values)"
      ],
      "execution_count": 33,
      "outputs": [
        {
          "output_type": "execute_result",
          "data": {
            "text/plain": [
              "numpy.ndarray"
            ]
          },
          "metadata": {
            "tags": []
          },
          "execution_count": 33
        }
      ]
    },
    {
      "cell_type": "code",
      "metadata": {
        "colab": {
          "base_uri": "https://localhost:8080/"
        },
        "id": "2HRvZGYIZiEu",
        "outputId": "e8859d2e-92b4-44a1-8a61-9f5d071cf6fe"
      },
      "source": [
        "type(s.index.values)"
      ],
      "execution_count": 34,
      "outputs": [
        {
          "output_type": "execute_result",
          "data": {
            "text/plain": [
              "numpy.ndarray"
            ]
          },
          "metadata": {
            "tags": []
          },
          "execution_count": 34
        }
      ]
    },
    {
      "cell_type": "code",
      "metadata": {
        "colab": {
          "base_uri": "https://localhost:8080/"
        },
        "id": "Lf-BIy6NZiEv",
        "outputId": "dc6dcf10-7614-4ab2-f348-17edf10b70a9"
      },
      "source": [
        "s.head().values"
      ],
      "execution_count": 35,
      "outputs": [
        {
          "output_type": "execute_result",
          "data": {
            "text/plain": [
              "array([589, 561, 640, 656, 727])"
            ]
          },
          "metadata": {
            "tags": []
          },
          "execution_count": 35
        }
      ]
    },
    {
      "cell_type": "code",
      "metadata": {
        "colab": {
          "base_uri": "https://localhost:8080/"
        },
        "id": "XooI-nOJZiE4",
        "outputId": "b568f778-a190-417d-915f-f84aba391b3c"
      },
      "source": [
        "s.head().index.values"
      ],
      "execution_count": 36,
      "outputs": [
        {
          "output_type": "execute_result",
          "data": {
            "text/plain": [
              "array(['1962-01-01T00:00:00.000000000', '1962-02-01T00:00:00.000000000',\n",
              "       '1962-03-01T00:00:00.000000000', '1962-04-01T00:00:00.000000000',\n",
              "       '1962-05-01T00:00:00.000000000'], dtype='datetime64[ns]')"
            ]
          },
          "metadata": {
            "tags": []
          },
          "execution_count": 36
        }
      ]
    },
    {
      "cell_type": "code",
      "metadata": {
        "colab": {
          "base_uri": "https://localhost:8080/"
        },
        "id": "wkThgkaYZiE5",
        "outputId": "92143faa-403a-43bc-cfcc-2cf8594073de"
      },
      "source": [
        "s.values.dot(s.values) # dot product"
      ],
      "execution_count": 37,
      "outputs": [
        {
          "output_type": "execute_result",
          "data": {
            "text/plain": [
              "97434667"
            ]
          },
          "metadata": {
            "tags": []
          },
          "execution_count": 37
        }
      ]
    },
    {
      "cell_type": "code",
      "metadata": {
        "colab": {
          "base_uri": "https://localhost:8080/"
        },
        "id": "IAFufkX9ZiE5",
        "outputId": "bee3ff93-4073-4e14-c4bf-a584c170db60"
      },
      "source": [
        "s.values + s.values"
      ],
      "execution_count": 38,
      "outputs": [
        {
          "output_type": "execute_result",
          "data": {
            "text/plain": [
              "array([1178, 1122, 1280, 1312, 1454, 1394, 1280, 1198, 1136, 1154, 1106,\n",
              "       1164, 1200, 1132, 1306, 1346, 1484, 1432, 1320, 1234, 1166, 1174,\n",
              "       1130, 1196, 1256, 1236, 1376, 1410, 1540, 1472, 1356, 1278, 1208,\n",
              "       1222, 1188, 1268, 1316, 1244, 1418, 1444, 1564, 1512, 1404, 1306,\n",
              "       1230, 1242, 1204, 1270, 1354, 1270, 1472, 1510, 1622, 1596, 1470,\n",
              "       1394, 1322, 1334, 1290, 1376, 1426, 1334, 1524, 1568, 1674, 1634,\n",
              "       1534, 1444, 1362, 1374, 1320, 1396, 1434, 1392, 1550, 1592, 1716,\n",
              "       1652, 1566, 1480, 1402, 1412, 1354, 1422, 1468, 1380, 1570, 1610,\n",
              "       1742, 1690, 1602, 1528, 1450, 1446, 1380, 1468, 1500, 1414, 1614,\n",
              "       1648, 1772, 1718, 1638, 1566, 1480, 1494, 1422, 1502, 1608, 1512,\n",
              "       1720, 1756, 1884, 1826, 1738, 1668, 1580, 1600, 1526, 1600, 1652,\n",
              "       1598, 1780, 1800, 1922, 1870, 1788, 1710, 1618, 1620, 1532, 1610,\n",
              "       1642, 1546, 1766, 1796, 1914, 1848, 1762, 1674, 1568, 1582, 1520,\n",
              "       1604, 1656, 1556, 1778, 1804, 1938, 1894, 1816, 1734, 1630, 1624,\n",
              "       1546, 1626, 1668, 1564, 1784, 1806, 1932, 1874, 1792, 1716, 1634,\n",
              "       1654, 1594, 1686])"
            ]
          },
          "metadata": {
            "tags": []
          },
          "execution_count": 38
        }
      ]
    },
    {
      "cell_type": "code",
      "metadata": {
        "colab": {
          "base_uri": "https://localhost:8080/"
        },
        "id": "elrIW7daZiE5",
        "outputId": "dd7c8ccb-3a0d-4c08-a9b8-7bd5e0c7efb2"
      },
      "source": [
        "s.values * s.values"
      ],
      "execution_count": 39,
      "outputs": [
        {
          "output_type": "execute_result",
          "data": {
            "text/plain": [
              "array([346921, 314721, 409600, 430336, 528529, 485809, 409600, 358801,\n",
              "       322624, 332929, 305809, 338724, 360000, 320356, 426409, 452929,\n",
              "       550564, 512656, 435600, 380689, 339889, 344569, 319225, 357604,\n",
              "       394384, 381924, 473344, 497025, 592900, 541696, 459684, 408321,\n",
              "       364816, 373321, 352836, 401956, 432964, 386884, 502681, 521284,\n",
              "       611524, 571536, 492804, 426409, 378225, 385641, 362404, 403225,\n",
              "       458329, 403225, 541696, 570025, 657721, 636804, 540225, 485809,\n",
              "       436921, 444889, 416025, 473344, 508369, 444889, 580644, 614656,\n",
              "       700569, 667489, 588289, 521284, 463761, 471969, 435600, 487204,\n",
              "       514089, 484416, 600625, 633616, 736164, 682276, 613089, 547600,\n",
              "       491401, 498436, 458329, 505521, 538756, 476100, 616225, 648025,\n",
              "       758641, 714025, 641601, 583696, 525625, 522729, 476100, 538756,\n",
              "       562500, 499849, 651249, 678976, 784996, 737881, 670761, 613089,\n",
              "       547600, 558009, 505521, 564001, 646416, 571536, 739600, 770884,\n",
              "       887364, 833569, 755161, 695556, 624100, 640000, 582169, 640000,\n",
              "       682276, 638401, 792100, 810000, 923521, 874225, 799236, 731025,\n",
              "       654481, 656100, 586756, 648025, 674041, 597529, 779689, 806404,\n",
              "       915849, 853776, 776161, 700569, 614656, 625681, 577600, 643204,\n",
              "       685584, 605284, 790321, 813604, 938961, 896809, 824464, 751689,\n",
              "       664225, 659344, 597529, 660969, 695556, 611524, 795664, 815409,\n",
              "       933156, 877969, 802816, 736164, 667489, 683929, 635209, 710649])"
            ]
          },
          "metadata": {
            "tags": []
          },
          "execution_count": 39
        }
      ]
    },
    {
      "cell_type": "markdown",
      "metadata": {
        "id": "C4B2az9eZiE6"
      },
      "source": [
        "The above examples are just for show. You can do the same thing directly with pandas Series objects and it will use numpy behind the scenes."
      ]
    },
    {
      "cell_type": "code",
      "metadata": {
        "colab": {
          "base_uri": "https://localhost:8080/"
        },
        "id": "GdjPDakhZiE6",
        "outputId": "cb038c7f-25a7-4d5f-8118-bbc31af8484f"
      },
      "source": [
        "s.dot(s) == s.values.dot(s.values)"
      ],
      "execution_count": 40,
      "outputs": [
        {
          "output_type": "execute_result",
          "data": {
            "text/plain": [
              "True"
            ]
          },
          "metadata": {
            "tags": []
          },
          "execution_count": 40
        }
      ]
    },
    {
      "cell_type": "markdown",
      "metadata": {
        "id": "6pph__6oZiE6"
      },
      "source": [
        "# 6. Simple Linear Regression."
      ]
    },
    {
      "cell_type": "markdown",
      "metadata": {
        "id": "AdNRKHBEZiE7"
      },
      "source": [
        "Side note: python accepts non-ascii type characters. So it is possible to use greek letters as variables. Try this: type in `\\alpha` and press the TAB key in any cell."
      ]
    },
    {
      "cell_type": "code",
      "metadata": {
        "colab": {
          "base_uri": "https://localhost:8080/"
        },
        "id": "XXpRdWVbZiE8",
        "outputId": "f248e8b2-bc9c-488d-eea4-26d9d6e3648d"
      },
      "source": [
        "α = 1\n",
        "β = 2\n",
        "α + β"
      ],
      "execution_count": 41,
      "outputs": [
        {
          "output_type": "execute_result",
          "data": {
            "text/plain": [
              "3"
            ]
          },
          "metadata": {
            "tags": []
          },
          "execution_count": 41
        }
      ]
    },
    {
      "cell_type": "markdown",
      "metadata": {
        "id": "gGP_xs0NZiE8"
      },
      "source": [
        "Here we will implement a simple linear regression to illustrate the full usage of pandas with numpy. For a single variable with intercept: $y = \\alpha + \\beta x$, the closed form solution is: \n",
        "\n",
        "$$\\beta = \\frac{cov(x,y)}{var(x)}$$\n",
        "$$\\alpha = \\bar{y} - \\beta \\bar{x}$$\n",
        "\n",
        "where $\\bar{y}$ and $\\bar{x}$ are the average values of the vectors $y$ and $x$, respectively.\n"
      ]
    },
    {
      "cell_type": "code",
      "metadata": {
        "id": "yTMFtjdYZiE9"
      },
      "source": [
        "y = s\n",
        "x = (s.index - pd.Timestamp(0)).days.values"
      ],
      "execution_count": 42,
      "outputs": []
    },
    {
      "cell_type": "code",
      "metadata": {
        "id": "2NyHyPzgZiE9"
      },
      "source": [
        "β = np.cov([x,y])[0][1]/x.var()\n",
        "α = y.mean() - β*x.mean()"
      ],
      "execution_count": 43,
      "outputs": []
    },
    {
      "cell_type": "code",
      "metadata": {
        "colab": {
          "base_uri": "https://localhost:8080/"
        },
        "id": "KLaWEhI1ZiE-",
        "outputId": "23efadad-4b46-4416-96aa-db965f9f3d0c"
      },
      "source": [
        "α"
      ],
      "execution_count": 44,
      "outputs": [
        {
          "output_type": "execute_result",
          "data": {
            "text/plain": [
              "776.0355721497116"
            ]
          },
          "metadata": {
            "tags": []
          },
          "execution_count": 44
        }
      ]
    },
    {
      "cell_type": "code",
      "metadata": {
        "colab": {
          "base_uri": "https://localhost:8080/"
        },
        "id": "OCKzjWQQZiE-",
        "outputId": "495d347c-c493-432a-82be-bdf08522db15"
      },
      "source": [
        "β"
      ],
      "execution_count": 45,
      "outputs": [
        {
          "output_type": "execute_result",
          "data": {
            "text/plain": [
              "0.05592981987998409"
            ]
          },
          "metadata": {
            "tags": []
          },
          "execution_count": 45
        }
      ]
    },
    {
      "cell_type": "code",
      "metadata": {
        "colab": {
          "base_uri": "https://localhost:8080/",
          "height": 282
        },
        "id": "FQ6wy-iVZiE_",
        "outputId": "1fba4831-7c57-4ff2-9c60-aef246175579"
      },
      "source": [
        "(\n",
        "    s\n",
        "    .to_frame() # transforms s back into a DataFrame\n",
        "    .assign(regression = α + β*x) # creates a new column called regression with values α + β*x\n",
        "    .plot() # plots all columns\n",
        ");"
      ],
      "execution_count": 46,
      "outputs": [
        {
          "output_type": "display_data",
          "data": {
            "image/png": "[encoded data removed]",
            "text/plain": [
              "<Figure size 432x288 with 1 Axes>"
            ]
          },
          "metadata": {
            "tags": []
          }
        }
      ]
    },
    {
      "cell_type": "markdown",
      "metadata": {
        "id": "o33nTkEfZiE_"
      },
      "source": [
        "The above programming style is called method chaining, and is highly recommended for clarity."
      ]
    }
  ]
}