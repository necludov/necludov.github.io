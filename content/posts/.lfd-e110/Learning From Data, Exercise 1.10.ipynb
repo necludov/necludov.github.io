{
 "cells": [
  {
   "cell_type": "markdown",
   "metadata": {},
   "source": [
    "# Statement\n",
    "\n",
    "Here is an experiment that illustrates the difference between a single bin and multiple bins. Run a computer simulation for flipping 1,000 fair coins. Flip each coin independently 10 times. Let's focus on 3 coins as follows: $c\\_1$ is the first coin flipped; $c\\_{rand}$ is a coin you choose at random; $c\\_{min}$ is the coin that had the minimum frequency of heads (pick the earlier one in case of a tie). $\\\\nu\\_1$, $\\\\nu\\_{rand}$ and $\\\\nu\\_{min}$ be the fraction of heads you obtain for the respective three coins.\n",
    "\n",
    "**(a) What is $\\\\mu$ for the three coins selected?**\n",
    "\n",
    "Let $c_m^{(i)}$ with $m = 1, \\dots, 1000$ and $i = 1, \\dots, 10$ be binary random variables representing the coins with probability $\\mu$ of obtaining heads.\n",
    "\n",
    "$$c_{min} = \\min_{c_m} \\frac{1}{10}\\sum_i c_m^{(i)}$$\n",
    "\n",
    "$$c_{rand} = c_M^{(i)}, M \\sim [1000]$$\n",
    "\n",
    "\n",
    "**(b) Repeat this entire experiment a large number of times (e.g., 100,000 runs of the entire experiment) to get several instances of $\\\\nu\\_1$, $\\\\nu\\_{rand}$ and $\\\\nu\\_{min}$ and plot the histograms of the distributions of $\\\\nu\\_1$, $\\\\nu\\_{rand}$ and $\\\\nu\\_{min}$. Notice that which coins end up being $c\\_{rand}$ and $c\\_{min}$ may differ from one run to another.**\n",
    "\n",
    "**\\(c\\) Using (b), plot estimates for $\\\\mathbb{P}\\\\left[\\\\lvert \\\\nu - \\\\mu \\\\rvert > \\\\epsilon\\\\right]$ as a function of $\\\\epsilon$, together with the Hoeffding bound $2e^{-2\\\\epsilon^2N}$ (on the same graph).**\n",
    "\n",
    "**(d) Which coins obey the Hoeffding bound, and which ones do not? Explain why.**\n",
    "\n",
    "**(e) Relate part (d) to the multiple bins in Figure 1.10.**"
   ]
  }
 ],
 "metadata": {
  "kernelspec": {
   "display_name": "dsevero.com",
   "language": "python",
   "name": "dsevero.com"
  },
  "language_info": {
   "codemirror_mode": {
    "name": "ipython",
    "version": 3
   },
   "file_extension": ".py",
   "mimetype": "text/x-python",
   "name": "python",
   "nbconvert_exporter": "python",
   "pygments_lexer": "ipython3",
   "version": "3.7.0"
  }
 },
 "nbformat": 4,
 "nbformat_minor": 2
}
